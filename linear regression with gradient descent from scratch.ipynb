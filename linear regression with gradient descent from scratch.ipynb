{
 "cells": [
  {
   "cell_type": "code",
   "execution_count": 32,
   "id": "748ec588",
   "metadata": {},
   "outputs": [],
   "source": [
    "class LinearRegression:\n",
    "    def __init__(self, learning_rate=1e-3, n_iters=1000):\n",
    "        # init parameters\n",
    "        self.lr = learning_rate\n",
    "        self.n_iters = n_iters\n",
    "        self.weights = None\n",
    "        self.bias = None\n",
    "    \n",
    "    def _init_params(self):\n",
    "        self.weights = np.zeros(self.n_features)\n",
    "        self.bias = 0\n",
    "    \n",
    "    def _update_params(self, dw, db):\n",
    "        self.weights -= self.lr * dw\n",
    "        self.bias -= self.lr * db\n",
    "    \n",
    "    def _get_prediction(self, X):\n",
    "        return np.dot(X, self.weights) + self.bias\n",
    "    \n",
    "    def _get_gradients(self, X, y, y_pred):\n",
    "        # get distance between y_pred and y_true\n",
    "        error = y_pred - y\n",
    "        # compute the gradients of weight & bias\n",
    "        dw = (1 / self.n_samples) * np.dot(X.T, error)\n",
    "        db = (1 / self.n_samples) * np.sum(error)\n",
    "        return dw, db\n",
    "    \n",
    "    def fit(self, X, y):\n",
    "        # get number of samples & features\n",
    "        self.n_samples, self.n_features = X.shape\n",
    "        # init weights & bias\n",
    "        self._init_params()\n",
    "\n",
    "        # perform gradient descent for n iterations\n",
    "        for _ in range(self.n_iters):\n",
    "            # get y_prediction\n",
    "            y_pred = self._get_prediction(X)\n",
    "            # compute gradients\n",
    "            dw, db = self._get_gradients(X, y, y_pred)\n",
    "            # update weights & bias with gradients\n",
    "            self._update_params(dw, db)\n",
    "    \n",
    "    def predict(self, X):\n",
    "        y_pred = self._get_prediction(X)\n",
    "        return y_pred"
   ]
  },
  {
   "cell_type": "code",
   "execution_count": 33,
   "id": "f3a1282e",
   "metadata": {},
   "outputs": [
    {
     "name": "stdout",
     "output_type": "stream",
     "text": [
      "RMSE: 20.487988968355808\n"
     ]
    }
   ],
   "source": [
    "from sklearn import datasets\n",
    "from sklearn.model_selection import train_test_split\n",
    "\n",
    "# define helper function to evaluate \n",
    "def rmse(y_true, y_pred):\n",
    "    return np.sqrt(np.mean((y_pred - y_true)**2))\n",
    "\n",
    "# load dataset\n",
    "X, y = datasets.make_regression(\n",
    "    n_samples=1000, n_features=1, noise=20, random_state=1\n",
    ")\n",
    "\n",
    "# split dataset\n",
    "X_train, X_test, y_train, y_test = train_test_split(X, y, test_size=0.2, random_state=1)\n",
    "\n",
    "# instantiate regressor and fit\n",
    "linreg = LinearRegression(learning_rate=0.01, n_iters=1000)\n",
    "linreg.fit(X_train, y_train)\n",
    "\n",
    "# make prediction\n",
    "predictions = linreg.predict(X_test)\n",
    "print(f\"RMSE: {rmse(y_test, predictions)}\")"
   ]
  }
 ],
 "metadata": {
  "kernelspec": {
   "display_name": "Python 3 (ipykernel)",
   "language": "python",
   "name": "python3"
  },
  "language_info": {
   "codemirror_mode": {
    "name": "ipython",
    "version": 3
   },
   "file_extension": ".py",
   "mimetype": "text/x-python",
   "name": "python",
   "nbconvert_exporter": "python",
   "pygments_lexer": "ipython3",
   "version": "3.11.5"
  }
 },
 "nbformat": 4,
 "nbformat_minor": 5
}
